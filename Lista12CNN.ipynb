{
  "cells": [
    {
      "cell_type": "markdown",
      "metadata": {
        "id": "xzgq2tLT3y2X"
      },
      "source": [
        "## Lista de Exercícios #12: Redes Neurais Convolucionais (CNN)\n",
        "\n",
        "**Aluno:** Samuel Horta de Faria\n",
        "\n",
        "**Matrícula:** 801528\n",
        "\n",
        "**Curso:** Ciência da Computação\n",
        "**Disciplina:** Inteligência Artificial\n",
        "\n",
        "**Profª:** Cristiane Neri Nobre\n",
        "\n",
        "Este notebook implementa uma Rede Neural Convolucional (CNN) para resolver o problema de classificação de imagens da competição 'Dogs vs. Cats' do Kaggle. O objetivo é construir um modelo capaz de diferenciar imagens de cachorros e gatos. As etapas incluem a preparação dos dados, a construção da arquitetura da CNN e o treinamento do modelo."
      ]
    },
    {
      "cell_type": "markdown",
      "metadata": {
        "id": "j0Fl-Id33y2a"
      },
      "source": [
        "### 0. Configurações Iniciais e Imports\n",
        "\n",
        "Importação de todas as bibliotecas necessárias. Utilizaremos `matplotlib` para visualização e `tensorflow.keras` para construir e treinar nossa CNN."
      ]
    },
    {
      "cell_type": "code",
      "execution_count": 4,
      "metadata": {
        "id": "I-RKnRFK3y2c"
      },
      "outputs": [],
      "source": [
        "# Imports para manipulação de dados e sistema operacional\n",
        "import numpy as np\n",
        "import pandas as pd\n",
        "import os\n",
        "import random\n",
        "\n",
        "# Imports para visualização de dados\n",
        "import matplotlib.pyplot as plt\n",
        "import seaborn as sns\n",
        "\n",
        "# Imports do TensorFlow e Keras para a construção da CNN\n",
        "import tensorflow as tf\n",
        "from tensorflow.keras.models import Sequential\n",
        "from tensorflow.keras.layers import Conv2D, MaxPooling2D, Flatten, Dense, Dropout\n",
        "from tensorflow.keras.preprocessing.image import ImageDataGenerator\n",
        "\n",
        "# Import para divisão de dados\n",
        "from sklearn.model_selection import train_test_split\n",
        "\n",
        "# Configuração para exibir gráficos no notebook\n",
        "%matplotlib inline"
      ]
    },
    {
      "cell_type": "markdown",
      "metadata": {
        "id": "f4cm6IJa3y2f"
      },
      "source": [
        "### 1. Definição de Constantes e Caminhos\n"
      ]
    },
    {
      "cell_type": "code",
      "execution_count": 5,
      "metadata": {
        "id": "WEYcZXln3y2f",
        "outputId": "414b7ef7-50a3-4db3-cd6c-8653a41c05a4",
        "colab": {
          "base_uri": "https://localhost:8080/"
        }
      },
      "outputs": [
        {
          "output_type": "stream",
          "name": "stdout",
          "text": [
            "-rw-r--r-- 1 root root 544M Jun 13 19:46 train.zip\n",
            "-rw-r--r-- 1 root root 272M Jun 13 19:44 test1.zip\n"
          ]
        }
      ],
      "source": [
        "# --- Caminhos das imagens (DESCOMPACTANDO O ARQUIV .ZIP) ---\n",
        "\n",
        "# Cria as pastas onde as imagens serão descompactadas\n",
        "!mkdir -p /content/dogs-vs-cats/train\n",
        "!mkdir -p /content/dogs-vs-cats/test1\n",
        "\n",
        "# Descompacta os arquivos zip\n",
        "!ls -lh train.zip\n",
        "!ls -lh test1.zip\n",
        "\n",
        "!unzip -q -o train.zip -d /content/dogs-vs-cats/train\n",
        "!unzip -q -o test1.zip -d /content/dogs-vs-cats/test1\n",
        "\n",
        "TRAIN_DIR = '/content/dogs-vs-cats/train/train'\n",
        "TEST_DIR = '/content/dogs-vs-cats/test1/test1'\n",
        "\n",
        "# Constantes para o modelo\n",
        "IMAGE_WIDTH = 128\n",
        "IMAGE_HEIGHT = 128\n",
        "IMAGE_SIZE = (IMAGE_WIDTH, IMAGE_HEIGHT)\n",
        "IMAGE_CHANNELS = 3 # 3 para imagens coloridas (RGB)\n",
        "BATCH_SIZE = 32 # Número de imagens processadas por lote"
      ]
    },
    {
      "cell_type": "markdown",
      "metadata": {
        "id": "6R2roKwu3y2g"
      },
      "source": [
        "### 2. Preparação dos Dados de Treino\n",
        "\n",
        "Os dados de treino estão em uma única pasta, com os nomes dos arquivos indicando a classe. Será lido todos os nomes de arquivos, extrair suas classes e organizar essas informações em um DataFrame do pandas para facilitar a manipulação."
      ]
    },
    {
      "cell_type": "code",
      "execution_count": 6,
      "metadata": {
        "colab": {
          "base_uri": "https://localhost:8080/"
        },
        "id": "Sx3Gizl83y2g",
        "outputId": "cecab67c-d928-4c5b-bd7e-bd6e136d775a"
      },
      "outputs": [
        {
          "output_type": "stream",
          "name": "stdout",
          "text": [
            "---| DataFrame de Treino Criado |---\n",
            "Total de imagens de treino: 25000\n",
            "       filename category\n",
            "0  dog.1612.jpg      dog\n",
            "1  cat.5027.jpg      cat\n",
            "2  dog.3217.jpg      dog\n",
            "3  dog.9772.jpg      dog\n",
            "4  cat.8286.jpg      cat\n",
            "\n",
            "---| Distribuição das Classes |---\n",
            "category\n",
            "dog    12500\n",
            "cat    12500\n",
            "Name: count, dtype: int64\n"
          ]
        }
      ],
      "source": [
        "# Lista para armazenar nomes de arquivos e suas categorias\n",
        "filenames = os.listdir(TRAIN_DIR)\n",
        "categories = []\n",
        "\n",
        "# Loop para extrair a categoria do nome do arquivo\n",
        "for filename in filenames:\n",
        "    category = filename.split('.')[0]\n",
        "    if category == 'dog':\n",
        "        categories.append('dog') # Usando strings para facilitar a divisão\n",
        "    else:\n",
        "        categories.append('cat')\n",
        "\n",
        "# Criação do DataFrame\n",
        "train_df = pd.DataFrame({\n",
        "    'filename': filenames,\n",
        "    'category': categories\n",
        "})\n",
        "\n",
        "print(\"---| DataFrame de Treino Criado |---\")\n",
        "print(f\"Total de imagens de treino: {train_df.shape[0]}\")\n",
        "print(train_df.head())\n",
        "\n",
        "print(\"\\n---| Distribuição das Classes |---\")\n",
        "print(train_df['category'].value_counts())"
      ]
    },
    {
      "cell_type": "markdown",
      "metadata": {
        "id": "TmN_Pua73y2h"
      },
      "source": [
        "### 3. Divisão dos Dados e Geração de Lotes (Batches)\n",
        "\n",
        "Divisão do conjunto de treino em dois: um para treinamento (90%) e outro para validação (10%). A validação ajuda a monitorar se o modelo está sofrendo de overfitting.\n",
        "\n",
        "Uso de `ImageDataGenerator` do Keras para:\n",
        "1.  **Aumento de Dados (Data Augmentation):** Criar variações das imagens de treino (rotações, zooms, etc.) para tornar o modelo mais robusto.\n",
        "2.  **Geração de Lotes:** Carregar as imagens da memória de forma eficiente em lotes, redimensionando-as e normalizando os valores dos pixels (dividindo por 255)."
      ]
    },
    {
      "cell_type": "code",
      "execution_count": 7,
      "metadata": {
        "id": "g_A3uo4d3y2i",
        "colab": {
          "base_uri": "https://localhost:8080/"
        },
        "outputId": "6a1f9980-fdb5-46cd-cda7-939baf32effa"
      },
      "outputs": [
        {
          "output_type": "stream",
          "name": "stdout",
          "text": [
            "---| Tamanho dos Conjuntos Após a Divisão |---\n",
            "Treino: 22500 imagens\n",
            "Validação: 2500 imagens\n",
            "Found 22500 validated image filenames belonging to 2 classes.\n",
            "Found 2500 validated image filenames belonging to 2 classes.\n"
          ]
        }
      ],
      "source": [
        "# Divisão do DataFrame em treino e validação\n",
        "train_df, validate_df = train_test_split(train_df, test_size=0.1, random_state=42, stratify=train_df['category'])\n",
        "train_df = train_df.reset_index(drop=True)\n",
        "validate_df = validate_df.reset_index(drop=True)\n",
        "\n",
        "print(\"---| Tamanho dos Conjuntos Após a Divisão |---\")\n",
        "print(f\"Treino: {train_df.shape[0]} imagens\")\n",
        "print(f\"Validação: {validate_df.shape[0]} imagens\")\n",
        "\n",
        "# Gerador para dados de treino com Data Augmentation\n",
        "train_datagen = ImageDataGenerator(\n",
        "    rescale=1./255.,\n",
        "    rotation_range=15,\n",
        "    shear_range=0.1,\n",
        "    zoom_range=0.2,\n",
        "    horizontal_flip=True,\n",
        "    width_shift_range=0.1,\n",
        "    height_shift_range=0.1\n",
        ")\n",
        "\n",
        "# Gerador para dados de validação\n",
        "validation_datagen = ImageDataGenerator(rescale=1./255.)\n",
        "\n",
        "# Criando os geradores que lerão as imagens a partir do DataFrame\n",
        "train_generator = train_datagen.flow_from_dataframe(\n",
        "    train_df,\n",
        "    TRAIN_DIR,\n",
        "    x_col='filename',\n",
        "    y_col='category',\n",
        "    target_size=IMAGE_SIZE,\n",
        "    class_mode='binary', # Classificação binária (gato | cachorro)\n",
        "    batch_size=BATCH_SIZE\n",
        ")\n",
        "\n",
        "validation_generator = validation_datagen.flow_from_dataframe(\n",
        "    validate_df,\n",
        "    TRAIN_DIR,\n",
        "    x_col='filename',\n",
        "    y_col='category',\n",
        "    target_size=IMAGE_SIZE,\n",
        "    class_mode='binary',\n",
        "    batch_size=BATCH_SIZE\n",
        ")"
      ]
    },
    {
      "cell_type": "markdown",
      "metadata": {
        "id": "l_4oiNE53y2i"
      },
      "source": [
        "### 4. Construção do Modelo CNN\n",
        "\n",
        "Definição da arquitetura da nossa CNN. O modelo será sequencial e composto por:\n",
        "- **Camadas Convolucionais (`Conv2D`):** Responsáveis por extrair características das imagens.\n",
        "- **Camadas de Pooling (`MaxPooling2D`):** Reduzem a dimensionalidade dos mapas de características, mantendo as informações mais importantes.\n",
        "- **Camada Flatten:** Transforma a matriz 2D de características em um vetor 1D para ser processado pela parte final da rede.\n",
        "- **Camadas Densas (`Dense`):** Camadas totalmente conectadas que realizam a classificação com base nas características extraídas.\n",
        "- **Camada de Dropout:** Técnica de regularização para prevenir overfitting, \"desligando\" aleatoriamente alguns neurônios durante o treino.\n",
        "- **Funções de Ativação:** `relu` para as camadas ocultas e `sigmoid` para a camada de saída, pois temos uma classificação binária."
      ]
    },
    {
      "cell_type": "code",
      "execution_count": 8,
      "metadata": {
        "id": "pUW8c5xY3y2j",
        "colab": {
          "base_uri": "https://localhost:8080/",
          "height": 524
        },
        "outputId": "f909f0d3-0932-4375-bb7d-3cbc934bf5d3"
      },
      "outputs": [
        {
          "output_type": "stream",
          "name": "stderr",
          "text": [
            "/usr/local/lib/python3.11/dist-packages/keras/src/layers/convolutional/base_conv.py:107: UserWarning: Do not pass an `input_shape`/`input_dim` argument to a layer. When using Sequential models, prefer using an `Input(shape)` object as the first layer in the model instead.\n",
            "  super().__init__(activity_regularizer=activity_regularizer, **kwargs)\n"
          ]
        },
        {
          "output_type": "stream",
          "name": "stdout",
          "text": [
            "---| Resumo da Arquitetura do Modelo |---\n"
          ]
        },
        {
          "output_type": "display_data",
          "data": {
            "text/plain": [
              "\u001b[1mModel: \"sequential\"\u001b[0m\n"
            ],
            "text/html": [
              "<pre style=\"white-space:pre;overflow-x:auto;line-height:normal;font-family:Menlo,'DejaVu Sans Mono',consolas,'Courier New',monospace\"><span style=\"font-weight: bold\">Model: \"sequential\"</span>\n",
              "</pre>\n"
            ]
          },
          "metadata": {}
        },
        {
          "output_type": "display_data",
          "data": {
            "text/plain": [
              "┏━━━━━━━━━━━━━━━━━━━━━━━━━━━━━━━━━┳━━━━━━━━━━━━━━━━━━━━━━━━┳━━━━━━━━━━━━━━━┓\n",
              "┃\u001b[1m \u001b[0m\u001b[1mLayer (type)                   \u001b[0m\u001b[1m \u001b[0m┃\u001b[1m \u001b[0m\u001b[1mOutput Shape          \u001b[0m\u001b[1m \u001b[0m┃\u001b[1m \u001b[0m\u001b[1m      Param #\u001b[0m\u001b[1m \u001b[0m┃\n",
              "┡━━━━━━━━━━━━━━━━━━━━━━━━━━━━━━━━━╇━━━━━━━━━━━━━━━━━━━━━━━━╇━━━━━━━━━━━━━━━┩\n",
              "│ conv2d (\u001b[38;5;33mConv2D\u001b[0m)                 │ (\u001b[38;5;45mNone\u001b[0m, \u001b[38;5;34m126\u001b[0m, \u001b[38;5;34m126\u001b[0m, \u001b[38;5;34m32\u001b[0m)   │           \u001b[38;5;34m896\u001b[0m │\n",
              "├─────────────────────────────────┼────────────────────────┼───────────────┤\n",
              "│ max_pooling2d (\u001b[38;5;33mMaxPooling2D\u001b[0m)    │ (\u001b[38;5;45mNone\u001b[0m, \u001b[38;5;34m63\u001b[0m, \u001b[38;5;34m63\u001b[0m, \u001b[38;5;34m32\u001b[0m)     │             \u001b[38;5;34m0\u001b[0m │\n",
              "├─────────────────────────────────┼────────────────────────┼───────────────┤\n",
              "│ conv2d_1 (\u001b[38;5;33mConv2D\u001b[0m)               │ (\u001b[38;5;45mNone\u001b[0m, \u001b[38;5;34m61\u001b[0m, \u001b[38;5;34m61\u001b[0m, \u001b[38;5;34m64\u001b[0m)     │        \u001b[38;5;34m18,496\u001b[0m │\n",
              "├─────────────────────────────────┼────────────────────────┼───────────────┤\n",
              "│ max_pooling2d_1 (\u001b[38;5;33mMaxPooling2D\u001b[0m)  │ (\u001b[38;5;45mNone\u001b[0m, \u001b[38;5;34m30\u001b[0m, \u001b[38;5;34m30\u001b[0m, \u001b[38;5;34m64\u001b[0m)     │             \u001b[38;5;34m0\u001b[0m │\n",
              "├─────────────────────────────────┼────────────────────────┼───────────────┤\n",
              "│ conv2d_2 (\u001b[38;5;33mConv2D\u001b[0m)               │ (\u001b[38;5;45mNone\u001b[0m, \u001b[38;5;34m28\u001b[0m, \u001b[38;5;34m28\u001b[0m, \u001b[38;5;34m128\u001b[0m)    │        \u001b[38;5;34m73,856\u001b[0m │\n",
              "├─────────────────────────────────┼────────────────────────┼───────────────┤\n",
              "│ max_pooling2d_2 (\u001b[38;5;33mMaxPooling2D\u001b[0m)  │ (\u001b[38;5;45mNone\u001b[0m, \u001b[38;5;34m14\u001b[0m, \u001b[38;5;34m14\u001b[0m, \u001b[38;5;34m128\u001b[0m)    │             \u001b[38;5;34m0\u001b[0m │\n",
              "├─────────────────────────────────┼────────────────────────┼───────────────┤\n",
              "│ flatten (\u001b[38;5;33mFlatten\u001b[0m)               │ (\u001b[38;5;45mNone\u001b[0m, \u001b[38;5;34m25088\u001b[0m)          │             \u001b[38;5;34m0\u001b[0m │\n",
              "├─────────────────────────────────┼────────────────────────┼───────────────┤\n",
              "│ dense (\u001b[38;5;33mDense\u001b[0m)                   │ (\u001b[38;5;45mNone\u001b[0m, \u001b[38;5;34m512\u001b[0m)            │    \u001b[38;5;34m12,845,568\u001b[0m │\n",
              "├─────────────────────────────────┼────────────────────────┼───────────────┤\n",
              "│ dropout (\u001b[38;5;33mDropout\u001b[0m)               │ (\u001b[38;5;45mNone\u001b[0m, \u001b[38;5;34m512\u001b[0m)            │             \u001b[38;5;34m0\u001b[0m │\n",
              "├─────────────────────────────────┼────────────────────────┼───────────────┤\n",
              "│ dense_1 (\u001b[38;5;33mDense\u001b[0m)                 │ (\u001b[38;5;45mNone\u001b[0m, \u001b[38;5;34m1\u001b[0m)              │           \u001b[38;5;34m513\u001b[0m │\n",
              "└─────────────────────────────────┴────────────────────────┴───────────────┘\n"
            ],
            "text/html": [
              "<pre style=\"white-space:pre;overflow-x:auto;line-height:normal;font-family:Menlo,'DejaVu Sans Mono',consolas,'Courier New',monospace\">┏━━━━━━━━━━━━━━━━━━━━━━━━━━━━━━━━━┳━━━━━━━━━━━━━━━━━━━━━━━━┳━━━━━━━━━━━━━━━┓\n",
              "┃<span style=\"font-weight: bold\"> Layer (type)                    </span>┃<span style=\"font-weight: bold\"> Output Shape           </span>┃<span style=\"font-weight: bold\">       Param # </span>┃\n",
              "┡━━━━━━━━━━━━━━━━━━━━━━━━━━━━━━━━━╇━━━━━━━━━━━━━━━━━━━━━━━━╇━━━━━━━━━━━━━━━┩\n",
              "│ conv2d (<span style=\"color: #0087ff; text-decoration-color: #0087ff\">Conv2D</span>)                 │ (<span style=\"color: #00d7ff; text-decoration-color: #00d7ff\">None</span>, <span style=\"color: #00af00; text-decoration-color: #00af00\">126</span>, <span style=\"color: #00af00; text-decoration-color: #00af00\">126</span>, <span style=\"color: #00af00; text-decoration-color: #00af00\">32</span>)   │           <span style=\"color: #00af00; text-decoration-color: #00af00\">896</span> │\n",
              "├─────────────────────────────────┼────────────────────────┼───────────────┤\n",
              "│ max_pooling2d (<span style=\"color: #0087ff; text-decoration-color: #0087ff\">MaxPooling2D</span>)    │ (<span style=\"color: #00d7ff; text-decoration-color: #00d7ff\">None</span>, <span style=\"color: #00af00; text-decoration-color: #00af00\">63</span>, <span style=\"color: #00af00; text-decoration-color: #00af00\">63</span>, <span style=\"color: #00af00; text-decoration-color: #00af00\">32</span>)     │             <span style=\"color: #00af00; text-decoration-color: #00af00\">0</span> │\n",
              "├─────────────────────────────────┼────────────────────────┼───────────────┤\n",
              "│ conv2d_1 (<span style=\"color: #0087ff; text-decoration-color: #0087ff\">Conv2D</span>)               │ (<span style=\"color: #00d7ff; text-decoration-color: #00d7ff\">None</span>, <span style=\"color: #00af00; text-decoration-color: #00af00\">61</span>, <span style=\"color: #00af00; text-decoration-color: #00af00\">61</span>, <span style=\"color: #00af00; text-decoration-color: #00af00\">64</span>)     │        <span style=\"color: #00af00; text-decoration-color: #00af00\">18,496</span> │\n",
              "├─────────────────────────────────┼────────────────────────┼───────────────┤\n",
              "│ max_pooling2d_1 (<span style=\"color: #0087ff; text-decoration-color: #0087ff\">MaxPooling2D</span>)  │ (<span style=\"color: #00d7ff; text-decoration-color: #00d7ff\">None</span>, <span style=\"color: #00af00; text-decoration-color: #00af00\">30</span>, <span style=\"color: #00af00; text-decoration-color: #00af00\">30</span>, <span style=\"color: #00af00; text-decoration-color: #00af00\">64</span>)     │             <span style=\"color: #00af00; text-decoration-color: #00af00\">0</span> │\n",
              "├─────────────────────────────────┼────────────────────────┼───────────────┤\n",
              "│ conv2d_2 (<span style=\"color: #0087ff; text-decoration-color: #0087ff\">Conv2D</span>)               │ (<span style=\"color: #00d7ff; text-decoration-color: #00d7ff\">None</span>, <span style=\"color: #00af00; text-decoration-color: #00af00\">28</span>, <span style=\"color: #00af00; text-decoration-color: #00af00\">28</span>, <span style=\"color: #00af00; text-decoration-color: #00af00\">128</span>)    │        <span style=\"color: #00af00; text-decoration-color: #00af00\">73,856</span> │\n",
              "├─────────────────────────────────┼────────────────────────┼───────────────┤\n",
              "│ max_pooling2d_2 (<span style=\"color: #0087ff; text-decoration-color: #0087ff\">MaxPooling2D</span>)  │ (<span style=\"color: #00d7ff; text-decoration-color: #00d7ff\">None</span>, <span style=\"color: #00af00; text-decoration-color: #00af00\">14</span>, <span style=\"color: #00af00; text-decoration-color: #00af00\">14</span>, <span style=\"color: #00af00; text-decoration-color: #00af00\">128</span>)    │             <span style=\"color: #00af00; text-decoration-color: #00af00\">0</span> │\n",
              "├─────────────────────────────────┼────────────────────────┼───────────────┤\n",
              "│ flatten (<span style=\"color: #0087ff; text-decoration-color: #0087ff\">Flatten</span>)               │ (<span style=\"color: #00d7ff; text-decoration-color: #00d7ff\">None</span>, <span style=\"color: #00af00; text-decoration-color: #00af00\">25088</span>)          │             <span style=\"color: #00af00; text-decoration-color: #00af00\">0</span> │\n",
              "├─────────────────────────────────┼────────────────────────┼───────────────┤\n",
              "│ dense (<span style=\"color: #0087ff; text-decoration-color: #0087ff\">Dense</span>)                   │ (<span style=\"color: #00d7ff; text-decoration-color: #00d7ff\">None</span>, <span style=\"color: #00af00; text-decoration-color: #00af00\">512</span>)            │    <span style=\"color: #00af00; text-decoration-color: #00af00\">12,845,568</span> │\n",
              "├─────────────────────────────────┼────────────────────────┼───────────────┤\n",
              "│ dropout (<span style=\"color: #0087ff; text-decoration-color: #0087ff\">Dropout</span>)               │ (<span style=\"color: #00d7ff; text-decoration-color: #00d7ff\">None</span>, <span style=\"color: #00af00; text-decoration-color: #00af00\">512</span>)            │             <span style=\"color: #00af00; text-decoration-color: #00af00\">0</span> │\n",
              "├─────────────────────────────────┼────────────────────────┼───────────────┤\n",
              "│ dense_1 (<span style=\"color: #0087ff; text-decoration-color: #0087ff\">Dense</span>)                 │ (<span style=\"color: #00d7ff; text-decoration-color: #00d7ff\">None</span>, <span style=\"color: #00af00; text-decoration-color: #00af00\">1</span>)              │           <span style=\"color: #00af00; text-decoration-color: #00af00\">513</span> │\n",
              "└─────────────────────────────────┴────────────────────────┴───────────────┘\n",
              "</pre>\n"
            ]
          },
          "metadata": {}
        },
        {
          "output_type": "display_data",
          "data": {
            "text/plain": [
              "\u001b[1m Total params: \u001b[0m\u001b[38;5;34m12,939,329\u001b[0m (49.36 MB)\n"
            ],
            "text/html": [
              "<pre style=\"white-space:pre;overflow-x:auto;line-height:normal;font-family:Menlo,'DejaVu Sans Mono',consolas,'Courier New',monospace\"><span style=\"font-weight: bold\"> Total params: </span><span style=\"color: #00af00; text-decoration-color: #00af00\">12,939,329</span> (49.36 MB)\n",
              "</pre>\n"
            ]
          },
          "metadata": {}
        },
        {
          "output_type": "display_data",
          "data": {
            "text/plain": [
              "\u001b[1m Trainable params: \u001b[0m\u001b[38;5;34m12,939,329\u001b[0m (49.36 MB)\n"
            ],
            "text/html": [
              "<pre style=\"white-space:pre;overflow-x:auto;line-height:normal;font-family:Menlo,'DejaVu Sans Mono',consolas,'Courier New',monospace\"><span style=\"font-weight: bold\"> Trainable params: </span><span style=\"color: #00af00; text-decoration-color: #00af00\">12,939,329</span> (49.36 MB)\n",
              "</pre>\n"
            ]
          },
          "metadata": {}
        },
        {
          "output_type": "display_data",
          "data": {
            "text/plain": [
              "\u001b[1m Non-trainable params: \u001b[0m\u001b[38;5;34m0\u001b[0m (0.00 B)\n"
            ],
            "text/html": [
              "<pre style=\"white-space:pre;overflow-x:auto;line-height:normal;font-family:Menlo,'DejaVu Sans Mono',consolas,'Courier New',monospace\"><span style=\"font-weight: bold\"> Non-trainable params: </span><span style=\"color: #00af00; text-decoration-color: #00af00\">0</span> (0.00 B)\n",
              "</pre>\n"
            ]
          },
          "metadata": {}
        }
      ],
      "source": [
        "model = Sequential()\n",
        "\n",
        "# Bloco 1\n",
        "model.add(Conv2D(32, (3, 3), activation='relu', input_shape=(IMAGE_WIDTH, IMAGE_HEIGHT, IMAGE_CHANNELS)))\n",
        "model.add(MaxPooling2D(pool_size=(2, 2)))\n",
        "\n",
        "# Bloco 2\n",
        "model.add(Conv2D(64, (3, 3), activation='relu'))\n",
        "model.add(MaxPooling2D(pool_size=(2, 2)))\n",
        "\n",
        "# Bloco 3\n",
        "model.add(Conv2D(128, (3, 3), activation='relu'))\n",
        "model.add(MaxPooling2D(pool_size=(2, 2)))\n",
        "\n",
        "# Camada de achatamento e camadas densas\n",
        "model.add(Flatten())\n",
        "model.add(Dense(512, activation='relu'))\n",
        "model.add(Dropout(0.5)) # Dropout para regularização\n",
        "model.add(Dense(1, activation='sigmoid')) # Saída com sigmoid para classificação binária\n",
        "\n",
        "# Compilação do modelo\n",
        "model.compile(optimizer='adam', loss='binary_crossentropy', metrics=['accuracy'])\n",
        "\n",
        "print(\"---| Resumo da Arquitetura do Modelo |---\")\n",
        "model.summary()"
      ]
    },
    {
      "cell_type": "markdown",
      "metadata": {
        "id": "7yz4Sk1p3y2j"
      },
      "source": [
        "### 5. Treinamento do Modelo\n",
        "\n",
        "Após modelo de geradores de dados pronto, inicia-se o treinamento usando o método `fit()`. Ocorrerá por um número definido de `epochs` (épocas). Em cada época, o modelo verá todas as imagens do conjunto de treino."
      ]
    },
    {
      "cell_type": "code",
      "execution_count": 9,
      "metadata": {
        "id": "B48rDir53y2k",
        "colab": {
          "base_uri": "https://localhost:8080/"
        },
        "outputId": "99df13d0-5730-4927-a77f-7184c859ac41"
      },
      "outputs": [
        {
          "output_type": "stream",
          "name": "stderr",
          "text": [
            "/usr/local/lib/python3.11/dist-packages/keras/src/trainers/data_adapters/py_dataset_adapter.py:121: UserWarning: Your `PyDataset` class should call `super().__init__(**kwargs)` in its constructor. `**kwargs` can include `workers`, `use_multiprocessing`, `max_queue_size`. Do not pass these arguments to `fit()`, as they will be ignored.\n",
            "  self._warn_if_super_not_called()\n"
          ]
        },
        {
          "output_type": "stream",
          "name": "stdout",
          "text": [
            "Epoch 1/3\n",
            "\u001b[1m703/703\u001b[0m \u001b[32m━━━━━━━━━━━━━━━━━━━━\u001b[0m\u001b[37m\u001b[0m \u001b[1m0s\u001b[0m 1s/step - accuracy: 0.5773 - loss: 0.6889"
          ]
        },
        {
          "output_type": "stream",
          "name": "stderr",
          "text": [
            "/usr/local/lib/python3.11/dist-packages/keras/src/trainers/data_adapters/py_dataset_adapter.py:121: UserWarning: Your `PyDataset` class should call `super().__init__(**kwargs)` in its constructor. `**kwargs` can include `workers`, `use_multiprocessing`, `max_queue_size`. Do not pass these arguments to `fit()`, as they will be ignored.\n",
            "  self._warn_if_super_not_called()\n"
          ]
        },
        {
          "output_type": "stream",
          "name": "stdout",
          "text": [
            "\b\b\b\b\b\b\b\b\b\b\b\b\b\b\b\b\b\b\b\b\b\b\b\b\b\b\b\b\b\b\b\b\b\b\b\b\b\b\b\b\b\b\b\b\b\b\b\b\b\b\b\b\b\b\b\b\b\b\b\b\b\b\b\b\b\b\b\b\b\b\b\b\b\r\u001b[1m703/703\u001b[0m \u001b[32m━━━━━━━━━━━━━━━━━━━━\u001b[0m\u001b[37m\u001b[0m \u001b[1m1007s\u001b[0m 1s/step - accuracy: 0.5773 - loss: 0.6889 - val_accuracy: 0.6939 - val_loss: 0.5796\n",
            "Epoch 2/3\n",
            "\u001b[1m  1/703\u001b[0m \u001b[37m━━━━━━━━━━━━━━━━━━━━\u001b[0m \u001b[1m12:36\u001b[0m 1s/step - accuracy: 0.6875 - loss: 0.6281"
          ]
        },
        {
          "output_type": "stream",
          "name": "stderr",
          "text": [
            "/usr/local/lib/python3.11/dist-packages/keras/src/trainers/epoch_iterator.py:107: UserWarning: Your input ran out of data; interrupting training. Make sure that your dataset or generator can generate at least `steps_per_epoch * epochs` batches. You may need to use the `.repeat()` function when building your dataset.\n",
            "  self._interrupted_warning()\n"
          ]
        },
        {
          "output_type": "stream",
          "name": "stdout",
          "text": [
            "\b\b\b\b\b\b\b\b\b\b\b\b\b\b\b\b\b\b\b\b\b\b\b\b\b\b\b\b\b\b\b\b\b\b\b\b\b\b\b\b\b\b\b\b\b\b\b\b\b\b\b\b\b\b\b\b\b\b\b\b\b\b\b\b\b\b\b\b\b\b\b\b\b\b\b\b\r\u001b[1m703/703\u001b[0m \u001b[32m━━━━━━━━━━━━━━━━━━━━\u001b[0m\u001b[37m\u001b[0m \u001b[1m41s\u001b[0m 57ms/step - accuracy: 0.6875 - loss: 0.6281 - val_accuracy: 0.6955 - val_loss: 0.5780\n",
            "Epoch 3/3\n",
            "\u001b[1m239/703\u001b[0m \u001b[32m━━━━━━\u001b[0m\u001b[37m━━━━━━━━━━━━━━\u001b[0m \u001b[1m10:47\u001b[0m 1s/step - accuracy: 0.6904 - loss: 0.5902"
          ]
        },
        {
          "output_type": "stream",
          "name": "stderr",
          "text": [
            "/usr/local/lib/python3.11/dist-packages/keras/src/legacy/preprocessing/image.py:1880: DeprecationWarning: Please import `affine_transform` from the `scipy.ndimage` namespace; the `scipy.ndimage.interpolation` namespace is deprecated and will be removed in SciPy 2.0.0.\n",
            "  scipy.ndimage.interpolation.affine_transform(\n"
          ]
        },
        {
          "output_type": "stream",
          "name": "stdout",
          "text": [
            "\u001b[1m703/703\u001b[0m \u001b[32m━━━━━━━━━━━━━━━━━━━━\u001b[0m\u001b[37m\u001b[0m \u001b[1m1102s\u001b[0m 1s/step - accuracy: 0.7001 - loss: 0.5784 - val_accuracy: 0.7712 - val_loss: 0.4868\n"
          ]
        }
      ],
      "source": [
        "EPOCHS = 3\n",
        "\n",
        "history = model.fit(\n",
        "    train_generator,\n",
        "    epochs=EPOCHS,\n",
        "    validation_data=validation_generator,\n",
        "    validation_steps=validate_df.shape[0] // BATCH_SIZE,\n",
        "    steps_per_epoch=train_df.shape[0] // BATCH_SIZE\n",
        ")"
      ]
    },
    {
      "cell_type": "markdown",
      "metadata": {
        "id": "e5uCTUiK3y2k"
      },
      "source": [
        "### 6. Avaliação do Modelo\n",
        "\n",
        "Após treinamento, avalia-se o desempenho. Será plotado a acurácia e a perda (loss) do treino e da validação ao longo das épocas. Permitindo visualizar o aprendizado e identificar sinais de overfitting."
      ]
    },
    {
      "cell_type": "code",
      "execution_count": 10,
      "metadata": {
        "id": "AphCg9ba3y2k",
        "colab": {
          "base_uri": "https://localhost:8080/",
          "height": 1000
        },
        "outputId": "8d02c646-8fa3-4eb1-ee9c-fa6864d6842d"
      },
      "outputs": [
        {
          "output_type": "display_data",
          "data": {
            "text/plain": [
              "<Figure size 1200x1200 with 2 Axes>"
            ],
            "image/png": "[encoded data removed]"
          },
          "metadata": {}
        }
      ],
      "source": [
        "fig, (ax1, ax2) = plt.subplots(2, 1, figsize=(12, 12))\n",
        "\n",
        "# Gráfico da Acurácia\n",
        "ax1.plot(history.history['accuracy'], color='b', label=\"Acurácia de Treino\")\n",
        "ax1.plot(history.history['val_accuracy'], color='r', label=\"Acurácia de Validação\")\n",
        "ax1.set_xticks(np.arange(0, EPOCHS, 1))\n",
        "ax1.set_ylabel('Acurácia')\n",
        "ax1.set_title('Acurácia por Época')\n",
        "ax1.legend()\n",
        "\n",
        "# Gráfico da Perda\n",
        "ax2.plot(history.history['loss'], color='b', label=\"Perda de Treino\")\n",
        "ax2.plot(history.history['val_loss'], color='r', label=\"Perda de Validação\")\n",
        "ax2.set_xticks(np.arange(0, EPOCHS, 1))\n",
        "ax2.set_ylabel('Perda')\n",
        "ax2.set_xlabel('Época')\n",
        "ax2.set_title('Perda por Época')\n",
        "ax2.legend()\n",
        "\n",
        "plt.show()"
      ]
    },
    {
      "cell_type": "markdown",
      "metadata": {
        "id": "MnmXKOrV3y2l"
      },
      "source": [
        "### 7. Preparação dos Dados de Teste e Geração da Conclusão\n",
        "\n",
        "Por ultimo, será usado o modelo treinado para prever as classes das imagens no conjunto de teste. Semelhante ao de validação: cria-se um DataFrame para os arquivos de teste e um gerador para carregá-los e normalizá-los. As previsões do modelo (probabilidades entre 0 e 1) são então convertidas para as classes finais (0 para 'gato', 1 para 'cachorro') e formatadas em um arquivo .csv."
      ]
    },
    {
      "cell_type": "code",
      "execution_count": 13,
      "metadata": {
        "id": "dbbmmZWI3y2l",
        "colab": {
          "base_uri": "https://localhost:8080/"
        },
        "outputId": "22d00569-6d8c-4302-cd54-2a7590b473ec"
      },
      "outputs": [
        {
          "output_type": "stream",
          "name": "stdout",
          "text": [
            "Found 12500 validated image filenames.\n"
          ]
        },
        {
          "output_type": "stream",
          "name": "stderr",
          "text": [
            "/usr/local/lib/python3.11/dist-packages/keras/src/trainers/data_adapters/py_dataset_adapter.py:121: UserWarning: Your `PyDataset` class should call `super().__init__(**kwargs)` in its constructor. `**kwargs` can include `workers`, `use_multiprocessing`, `max_queue_size`. Do not pass these arguments to `fit()`, as they will be ignored.\n",
            "  self._warn_if_super_not_called()\n"
          ]
        },
        {
          "output_type": "stream",
          "name": "stdout",
          "text": [
            "\u001b[1m391/391\u001b[0m \u001b[32m━━━━━━━━━━━━━━━━━━━━\u001b[0m\u001b[37m\u001b[0m \u001b[1m143s\u001b[0m 366ms/step\n",
            "\n",
            "---| Exemplo de Predições no Conjunto de Teste |---\n",
            "   filename  category\n",
            "0  3540.jpg         0\n",
            "1  9604.jpg         1\n",
            "2  7200.jpg         0\n",
            "3   877.jpg         0\n",
            "4  5729.jpg         0\n"
          ]
        }
      ],
      "source": [
        "# Preparando o DataFrame de teste\n",
        "test_filenames = os.listdir(TEST_DIR)\n",
        "test_df = pd.DataFrame({\n",
        "    'filename': test_filenames\n",
        "})\n",
        "nb_samples = test_df.shape[0]\n",
        "\n",
        "# Gerador para os dados de teste\n",
        "test_gen = ImageDataGenerator(rescale=1./255.)\n",
        "test_generator = test_gen.flow_from_dataframe(\n",
        "    test_df,\n",
        "    TEST_DIR,\n",
        "    x_col='filename',\n",
        "    y_col=None,\n",
        "    class_mode=None,\n",
        "    target_size=IMAGE_SIZE,\n",
        "    batch_size=BATCH_SIZE,\n",
        "    shuffle=False\n",
        ")\n",
        "\n",
        "# Realizando as predições\n",
        "predict = model.predict(test_generator, steps=int(np.ceil(nb_samples/BATCH_SIZE)))\n",
        "\n",
        "# Convertendo probabilidades em classes (0 ou 1)\n",
        "# A classe 'dog' é 1, 'cat' é 0. O sigmoid > 0.5 indica maior probabilidade de ser a classe 1.\n",
        "test_df['category'] = np.where(predict > 0.5, 1, 0)\n",
        "\n",
        "\n",
        "print(\"\\n---| Exemplo de Predições no Conjunto de Teste |---\")\n",
        "print(test_df.head())"
      ]
    },
    {
      "cell_type": "markdown",
      "metadata": {
        "id": "d2b1c8d9"
      },
      "source": [
        "### 8. Conclusão sobre o Desempenho do Modelo\n",
        "\n",
        "Com base nos gráficos de acurácia e perda gerados após o treinamento por 3 épocas, podemos observar o seguinte:\n",
        "\n",
        "*   **Acurácia:** A acurácia tanto no conjunto de treino quanto no conjunto de validação aumentou ao longo das épocas, indicando que o modelo está aprendendo a classificar as imagens. A acurácia de validação alcançou aproximadamente 77.12%, o que sugere que o modelo tem alguma capacidade de generalização para dados não vistos.\n",
        "*   **Perda (Loss):** A perda diminuiu em ambos os conjuntos, o que é um bom sinal de que o modelo está convergindo. A perda de validação diminuiu para aproximadamente 0.4868.\n",
        "\n",
        "Embora o modelo tenha demonstrado aprendizado, há espaço para melhorias. A diferença entre a acurácia de treino e validação, embora não seja drástica, pode indicar um leve overfitting. Treinar por mais épocas, ajustar a arquitetura da rede ou experimentar com diferentes técnicas de regularização podem potencialmente melhorar o desempenho e a capacidade de generalização do modelo."
      ]
    }
  ],
  "metadata": {
    "colab": {
      "provenance": []
    },
    "kernelspec": {
      "display_name": "Python 3",
      "language": "python",
      "name": "python3"
    },
    "language_info": {
      "codemirror_mode": {
        "name": "ipython",
        "version": 3
      },
      "file_extension": ".py",
      "mimetype": "text/x-python",
      "name": "python",
      "nbconvert_exporter": "python",
      "pygments_lexer": "ipython3",
      "version": "3.8.8"
    }
  },
  "nbformat": 4,
  "nbformat_minor": 0
}